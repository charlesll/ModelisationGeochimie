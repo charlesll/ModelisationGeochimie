{
 "cells": [
  {
   "cell_type": "markdown",
   "metadata": {},
   "source": [
    "## Optimisation - or how to fit data\n",
    "\n",
    "In this notebook, we will review briefly various concepts and Python tools that can be used to perform optimisation, model solving, and curve fitting.\n",
    "\n",
    "***Dependencies***\n",
    "- numpy\n",
    "- scipy\n",
    "- matplotlib\n",
    "- uncertainties\n",
    "\n",
    "Note: this notebook was originally written in collaboration with Oscar Branson (Cambridge) and Andrew Valentine (ANU-RSES) in the framework of the 'data surgeries' event from the Data Science research theme at RSES."
   ]
  },
  {
   "cell_type": "code",
   "execution_count": 1,
   "metadata": {},
   "outputs": [],
   "source": [
    "%matplotlib inline\n",
    "import matplotlib\n",
    "from matplotlib import pyplot as plt\n",
    "from matplotlib.ticker import MaxNLocator\n",
    "from mpl_toolkits.mplot3d import Axes3D\n",
    "import matplotlib.tri as tri\n",
    "\n",
    "import numpy as np\n",
    "import scipy\n",
    "\n",
    "# We fix the random seed to always get the same problem\n",
    "\n",
    "np.random.seed(seed=42)"
   ]
  },
  {
   "cell_type": "markdown",
   "metadata": {},
   "source": [
    "# Generating fake data: A simple curve fit with noise\n",
    "\n",
    "We will fit a second order polynomial function, that can be calculate with the forward model function defined below:"
   ]
  },
  {
   "cell_type": "code",
   "execution_count": 2,
   "metadata": {},
   "outputs": [],
   "source": [
    "def forward_model(x,a,b,c):\n",
    "    \"\"\"forward model for our problem\"\"\"\n",
    "    return a + x*b + c*x*x"
   ]
  },
  {
   "cell_type": "markdown",
   "metadata": {},
   "source": [
    "Nous pouvons utiliser cette fonction pour générer de fausses données"
   ]
  },
  {
   "cell_type": "code",
   "execution_count": 3,
   "metadata": {},
   "outputs": [
    {
     "data": {
      "text/plain": [
       "<matplotlib.legend.Legend at 0x7fc623781880>"
      ]
     },
     "execution_count": 3,
     "metadata": {},
     "output_type": "execute_result"
    },
    {
     "data": {
      "image/png": "[encoded data removed]",
      "text/plain": [
       "<Figure size 432x288 with 1 Axes>"
      ]
     },
     "metadata": {
      "needs_background": "light"
     },
     "output_type": "display_data"
    }
   ],
   "source": [
    "# true parameters\n",
    "a = 10.0\n",
    "b = 1.321\n",
    "c = 0.02978\n",
    "\n",
    "N = 30\n",
    "\n",
    "x = np.sort(100*np.random.rand(N))\n",
    "y = forward_model(x,a,b,c)\n",
    "\n",
    "# Real world observations are noisy...\n",
    "# we have random errors there, no systematic bias\n",
    "ese = 20*np.random.randn(N)\n",
    "\n",
    "y_observed = y + ese\n",
    "\n",
    "plt.errorbar(x,y_observed,yerr=ese,fmt='.',color=\"k\",label=\"Observed data\")\n",
    "plt.plot(x,y,\"r-\",label=\"Ground Truth\")\n",
    "plt.xlabel(\"X independent variable\")\n",
    "plt.ylabel(\"Y observations\")\n",
    "plt.legend()"
   ]
  },
  {
   "cell_type": "markdown",
   "metadata": {},
   "source": [
    "# Fitting the data\n",
    "\n",
    "We can guess look at the figure that the data follow some second order polynomial, or maybe a third. Simplicity is great, so we chose a second order polynomial.\n",
    "\n",
    "The idea is now to define a model *m* which fits our data *d* with some parameters we can tune. We basically want to map:\n",
    "\n",
    "$d = G(m)$ , eq. 1\n",
    "\n",
    "In this case, our model is a second order polynomial function:\n",
    "\n",
    "$d = a + b*x + c*x*x$ . eq. 2\n",
    "\n",
    "An easy and well used way to fit our data with eq. 2 is to use **least-square regression**.\n",
    "\n",
    "The least-square problem consists in minimizing the misfit between the observation $d$ and the model $m$:\n",
    "\n",
    "$misfit = \\sum_{i=1}^{n}{(d_n-m_n)^2}$ , eq. 3\n",
    "\n",
    "We want to minimize this value. The eq. 3 is called the **objective function** of our problem. Eq. 3 is a least-square objective function. Other functions can be used, like the least absolute value objective function (a.k.a. L1 norm).\n",
    "\n",
    "There is several way to do that. In python, one of the simplest is to **use the curve_fit function of scipy**. In order to use this function, we need to have another one that allows calculating eq. 1. Let's do that."
   ]
  },
  {
   "cell_type": "code",
   "execution_count": 4,
   "metadata": {},
   "outputs": [],
   "source": [
    "# we need to import curve_fit for fitting our curve\n",
    "# we also import uncertainties for error propagation\n",
    "from scipy.optimize import curve_fit \n",
    "\n"
   ]
  },
  {
   "cell_type": "code",
   "execution_count": null,
   "metadata": {},
   "outputs": [],
   "source": []
  }
 ],
 "metadata": {
  "kernelspec": {
   "display_name": "Python 3 (ipykernel)",
   "language": "python",
   "name": "python3"
  },
  "language_info": {
   "codemirror_mode": {
    "name": "ipython",
    "version": 3
   },
   "file_extension": ".py",
   "mimetype": "text/x-python",
   "name": "python",
   "nbconvert_exporter": "python",
   "pygments_lexer": "ipython3",
   "version": "3.8.8"
  }
 },
 "nbformat": 4,
 "nbformat_minor": 2
}
