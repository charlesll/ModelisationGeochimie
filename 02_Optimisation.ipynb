{
 "cells": [
  {
   "cell_type": "markdown",
   "metadata": {},
   "source": [
    "# Optimisation - ou comment ajuster un modèle\n",
    "\n",
    "Dans ce notebook, nous introduirons différentes méthodes pour résoudre les problèmes d'ajustement d'un modèle à des données.\n",
    "\n",
    "***Dependencies***\n",
    "- emcee\n",
    "- corner\n",
    "- numpy\n",
    "- scipy\n",
    "- matplotlib\n",
    "- uncertainties\n",
    "\n",
    "Ce notebook est inspiré d'un cours donné avec Andrew Valentine à ANU-RSES à Canberra, vous trouverez la version originale ici: https://github.com/rses-datascience/DataSurgeries/tree/master/Tutorials/04_Model_Fitting"
   ]
  },
  {
   "cell_type": "code",
   "execution_count": 2,
   "metadata": {},
   "outputs": [],
   "source": [
    "%matplotlib inline\n",
    "import matplotlib\n",
    "from matplotlib import pyplot as plt\n",
    "from matplotlib.ticker import MaxNLocator\n",
    "from mpl_toolkits.mplot3d import Axes3D\n",
    "import matplotlib.tri as tri\n",
    "\n",
    "import numpy as np\n",
    "import scipy\n",
    "\n",
    "# We fix the random seed to always get the same problem\n",
    "\n",
    "np.random.seed(seed=42)"
   ]
  },
  {
   "cell_type": "markdown",
   "metadata": {},
   "source": [
    "# Générer des données\n",
    "\n",
    "Pour vraiment travailler sur le problème d'optimisation, nous allons générer des données synthétiques. Nous connaîtrons donc la \"vérité\" dérrière ces données, nous permettant d'évaluer avec un esprit critique les différentes approches de fit.\n",
    "\n",
    "Le modèle choisi est une simple fonction polynomiale :"
   ]
  },
  {
   "cell_type": "code",
   "execution_count": 4,
   "metadata": {},
   "outputs": [],
   "source": [
    "def my_polynomial(x,a,b,c):\n",
    "    return a + x*b + c*x*x"
   ]
  },
  {
   "cell_type": "markdown",
   "metadata": {},
   "source": [
    "Nous pouvons utiliser cette fonction pour générer de fausses données"
   ]
  },
  {
   "cell_type": "code",
   "execution_count": 5,
   "metadata": {},
   "outputs": [],
   "source": [
    "# true parameters\n",
    "a = 10.0\n",
    "b = 1.321\n",
    "c = 0.02978\n",
    "\n",
    "N = 100\n",
    "\n",
    "x = np.sort(100*np.random.rand(N))\n",
    "y = my_polynomial(x,a,b,c)"
   ]
  },
  {
   "cell_type": "markdown",
   "metadata": {},
   "source": [
    "Les erreurs dans le monde réel sont fréquentes et affectent nos observations. Ici nous allons ajouter des sources d'erreurs aléatoires ET systématiques...\n"
   ]
  },
  {
   "cell_type": "code",
   "execution_count": 6,
   "metadata": {},
   "outputs": [
    {
     "data": {
      "text/plain": [
       "<matplotlib.legend.Legend at 0x7f6f2d4d1a10>"
      ]
     },
     "execution_count": 6,
     "metadata": {},
     "output_type": "execute_result"
    },
    {
     "data": {
      "image/png": "[encoded data removed]",
      "text/plain": [
       "<Figure size 432x288 with 1 Axes>"
      ]
     },
     "metadata": {
      "needs_background": "light"
     },
     "output_type": "display_data"
    }
   ],
   "source": [
    "known_ese = np.random.randn(N)*15\n",
    "\n",
    "f = 2 # our systematic bias coefficient\n",
    "bias = np.sqrt(y)*f*np.random.randn(N) # the bias is a linear function of a normal distribution centred on x\n",
    "\n",
    "true_ese = known_ese + bias\n",
    "\n",
    "y_noisy = y + known_ese + true_ese # this is what we observe\n",
    "\n",
    "plt.errorbar(x,y_noisy,yerr=known_ese,fmt='.',color=\"k\",label=\"Observed data\")\n",
    "plt.plot(x,y,\"r-\",label=\"Ground Truth\")\n",
    "plt.legend()"
   ]
  },
  {
   "cell_type": "code",
   "execution_count": null,
   "metadata": {},
   "outputs": [],
   "source": []
  }
 ],
 "metadata": {
  "kernelspec": {
   "display_name": "Python 3",
   "language": "python",
   "name": "python3"
  },
  "language_info": {
   "codemirror_mode": {
    "name": "ipython",
    "version": 3
   },
   "file_extension": ".py",
   "mimetype": "text/x-python",
   "name": "python",
   "nbconvert_exporter": "python",
   "pygments_lexer": "ipython3",
   "version": "3.7.4"
  }
 },
 "nbformat": 4,
 "nbformat_minor": 2
}
