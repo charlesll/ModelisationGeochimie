{
 "cells": [
  {
   "cell_type": "markdown",
   "metadata": {},
   "source": [
    "# Simple showcasing of least squares and random walks...\n",
    "\n"
   ]
  },
  {
   "cell_type": "code",
   "execution_count": 3,
   "metadata": {},
   "outputs": [],
   "source": [
    "%matplotlib inline\n",
    "import matplotlib\n",
    "from matplotlib import pyplot as plt\n",
    "\n",
    "import numpy as np\n"
   ]
  },
  {
   "cell_type": "markdown",
   "metadata": {},
   "source": [
    "Consider a simple problem : a constant:"
   ]
  },
  {
   "cell_type": "code",
   "execution_count": 7,
   "metadata": {},
   "outputs": [
    {
     "data": {
      "text/plain": [
       "Text(0, 0.5, 'Observed Y')"
      ]
     },
     "execution_count": 7,
     "metadata": {},
     "output_type": "execute_result"
    },
    {
     "data": {
      "image/png": "[encoded data removed]",
      "text/plain": [
       "<Figure size 432x288 with 1 Axes>"
      ]
     },
     "metadata": {
      "needs_background": "light"
     },
     "output_type": "display_data"
    }
   ],
   "source": [
    "def forward_model(x,a):\n",
    "    return a\n",
    "\n",
    "a = 10.0 # True value\n",
    "\n",
    "x = np.random.rand(100)\n",
    "y = 0*x + a + np.random.randn(len(x))*0.4\n",
    "\n",
    "plt.plot(x,y,\"ks\")\n",
    "plt.ylim(0,20)\n",
    "plt.xlabel(\"X\")\n",
    "plt.ylabel(\"Observed Y\")"
   ]
  },
  {
   "cell_type": "markdown",
   "metadata": {},
   "source": [
    "Converging to the \"true\" value of a parameter like 'a' should yield a significant decrease in misfit. It will look like this:"
   ]
  },
  {
   "cell_type": "code",
   "execution_count": 8,
   "metadata": {},
   "outputs": [
    {
     "data": {
      "text/plain": [
       "Text(0, 0.5, 'Misfit')"
      ]
     },
     "execution_count": 8,
     "metadata": {},
     "output_type": "execute_result"
    },
    {
     "data": {
      "image/png": "[encoded data removed]",
      "text/plain": [
       "<Figure size 432x288 with 1 Axes>"
      ]
     },
     "metadata": {
      "needs_background": "light"
     },
     "output_type": "display_data"
    }
   ],
   "source": [
    "search = np.arange(5.0,15.0,0.1)\n",
    "misfit = []\n",
    "for i in search:\n",
    "    misfit.append(np.sum((y_obs-forward_model(x,i))**2))\n",
    "    \n",
    "plt.plot(search,misfit,\"k.\")\n",
    "plt.xlabel(\"Value of a\")\n",
    "plt.ylabel(\"Misfit\")"
   ]
  },
  {
   "cell_type": "markdown",
   "metadata": {},
   "source": [
    "So the usual game of many algorithms (like Levenberg-Marquart) is to go down such \"misfit valley\". Assuming that you can go down by increaments of 0.1 a, try to write an algorithm to find a in pseudo-code."
   ]
  },
  {
   "cell_type": "code",
   "execution_count": 9,
   "metadata": {},
   "outputs": [
    {
     "name": "stdout",
     "output_type": "stream",
     "text": [
      "[10.]\n",
      "10.099999999999982\n"
     ]
    }
   ],
   "source": [
    "# Option 1 : a bit bruteforce\n",
    "def forward_model(x,a):\n",
    "    return x*0 + a\n",
    "\n",
    "def misfit(y,x,a):\n",
    "    return np.sum((y-forward_model(x,a))**2)\n",
    "\n",
    "a_try = np.arange(5,15,0.1)\n",
    "misfits = np.zeros(a_try.shape)\n",
    "for i in range(len(a_try)):\n",
    "    misfits[i] = misfit(y,x,a_try[i])\n",
    "a_best = a_try[misfits == np.min(misfits)]\n",
    "print(a_best)\n",
    "\n",
    "# Option 2 : a bit more clever but not the best (because there is a delay in the search)\n",
    "def forward_model(x,a):\n",
    "    return x*0 + a\n",
    "\n",
    "def misfit(y,x,a):\n",
    "    return np.sum((y-forward_model(x,a))**2)\n",
    "\n",
    "a_start = 5.\n",
    "a_best = 5.0\n",
    "LS_ = 1000000.\n",
    "LS_new = misfit(y,x,a_start)\n",
    "while LS_new<=LS_:\n",
    "    LS_ = LS_new\n",
    "    a_best += 0.1\n",
    "    LS_new = misfit(y,x,a_best)\n",
    "print(a_best)"
   ]
  },
  {
   "cell_type": "markdown",
   "metadata": {},
   "source": [
    "# Hill climbing"
   ]
  },
  {
   "cell_type": "code",
   "execution_count": 11,
   "metadata": {},
   "outputs": [
    {
     "data": {
      "text/plain": [
       "Text(0.5, 0, 'Value of a')"
      ]
     },
     "execution_count": 11,
     "metadata": {},
     "output_type": "execute_result"
    },
    {
     "data": {
      "image/png": "[encoded data removed]",
      "text/plain": [
       "<Figure size 432x288 with 1 Axes>"
      ]
     },
     "metadata": {
      "needs_background": "light"
     },
     "output_type": "display_data"
    }
   ],
   "source": [
    "plt.plot(search,np.exp(-0.5*np.array(misfits)/4.0**2),\"k.\")\n",
    "plt.xlabel(\"Value of a\")"
   ]
  },
  {
   "cell_type": "code",
   "execution_count": 12,
   "metadata": {},
   "outputs": [
    {
     "name": "stdout",
     "output_type": "stream",
     "text": [
      "9.999999999999982\n"
     ]
    }
   ],
   "source": [
    "def forward_model(x,a):\n",
    "    return x*0 + a\n",
    "\n",
    "def normal_dist(y,x,a):\n",
    "    return np.sum(np.exp(-0.5*(y-forward_model(x,a))**2))\n",
    "    \n",
    "a_ = 5.0\n",
    "for i in range(100):\n",
    "    prob_ = normal_dist(y,x,a_)\n",
    "    a_new = a_ + 0.1\n",
    "    prob_new = normal_dist(y,x,a_new)\n",
    "    if prob_new > prob_:\n",
    "        a_ = a_new\n",
    "print(a_)"
   ]
  },
  {
   "cell_type": "code",
   "execution_count": null,
   "metadata": {},
   "outputs": [],
   "source": []
  }
 ],
 "metadata": {
  "kernelspec": {
   "display_name": "Python 3",
   "language": "python",
   "name": "python3"
  },
  "language_info": {
   "codemirror_mode": {
    "name": "ipython",
    "version": 3
   },
   "file_extension": ".py",
   "mimetype": "text/x-python",
   "name": "python",
   "nbconvert_exporter": "python",
   "pygments_lexer": "ipython3",
   "version": "3.7.7"
  }
 },
 "nbformat": 4,
 "nbformat_minor": 2
}
