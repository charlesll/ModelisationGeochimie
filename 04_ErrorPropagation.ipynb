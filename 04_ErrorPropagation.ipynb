{
 "cells": [
  {
   "cell_type": "markdown",
   "metadata": {},
   "source": [
    "# What do we do with errors on parameters ?"
   ]
  },
  {
   "cell_type": "code",
   "execution_count": 1,
   "metadata": {},
   "outputs": [],
   "source": [
    "%matplotlib inline\n",
    "import matplotlib\n",
    "from matplotlib import pyplot as plt\n",
    "from matplotlib.ticker import MaxNLocator\n",
    "from mpl_toolkits.mplot3d import Axes3D\n",
    "import matplotlib.tri as tri\n",
    "\n",
    "import numpy as np\n",
    "import scipy\n",
    "from scipy.optimize import curve_fit \n",
    "\n",
    "import pandas as pd # we need the pandas library, really useful to read excel, csv files, etc...\n",
    "\n",
    "# We fix the random seed to always get the same problem\n",
    "np.random.seed(seed=42)"
   ]
  },
  {
   "cell_type": "markdown",
   "metadata": {},
   "source": [
    "If we calculate the fit of a straigh line to data with curve_fit, we end up with some errors on parameters...\n",
    "\n",
    "# First, go back to the 2nd order polynomial problem to create data and a fit:"
   ]
  },
  {
   "cell_type": "code",
   "execution_count": 28,
   "metadata": {},
   "outputs": [
    {
     "name": "stdout",
     "output_type": "stream",
     "text": [
      "Obtained parameters:\n",
      "[9.9601766  1.31244116 0.02999733]\n",
      "Fit RMSE is: 29.827765349102346\n"
     ]
    },
    {
     "data": {
      "image/png": "[encoded data removed]",
      "text/plain": [
       "<Figure size 432x288 with 2 Axes>"
      ]
     },
     "metadata": {
      "needs_background": "light"
     },
     "output_type": "display_data"
    }
   ],
   "source": [
    "# THE FORWARD PROBLEM\n",
    "\n",
    "def forward_model(x,a,b,c):\n",
    "    \"\"\"forward model for our problem\"\"\"\n",
    "    return a + x*b + c*x*x\n",
    "\n",
    "# DATA GENERATION\n",
    "\n",
    "# true parameters\n",
    "a = 10.0\n",
    "b = 1.321\n",
    "c = 0.02978\n",
    "\n",
    "N = 30\n",
    "\n",
    "x = np.sort(100*np.random.rand(N))\n",
    "y = forward_model(x,a,b,c)\n",
    "\n",
    "# Real world observations are noisy...\n",
    "# we have random errors there, no systematic bias\n",
    "ese = 40*np.random.randn(N)\n",
    "\n",
    "y_observed = y + ese\n",
    "\n",
    "# LEAST SQUARE FIT\n",
    "\n",
    "# we declare a new least-squares function with errors taken into account\n",
    "def least_squares_ponderated(y_observed,y_calculated, y_sigmas):\n",
    "    \"\"\"least square criterion\"\"\"\n",
    "    return np.sum((y_observed-y_calculated)**2/(y_sigmas**2))\n",
    "\n",
    "# then we fit and record the best parameters popt \n",
    "# and the covariance matrix pcov\n",
    "popt, pcov = curve_fit(forward_model,x,y_observed,sigma=ese) \n",
    "\n",
    "print(\"Obtained parameters:\")\n",
    "print(popt)\n",
    "\n",
    "# we calculate the best estimate\n",
    "y_pred_curvefit = forward_model(x,*popt) # parameter unwrapping (*popt) works only in Python 3\n",
    "print(\"Fit RMSE is: \"+str(least_squares_ponderated(y_observed,y_pred_curvefit,ese)))\n",
    "\n",
    "# FIGURE\n",
    "\n",
    "plt.figure()\n",
    "\n",
    "plt.subplot(3,1,(1,2))\n",
    "plt.errorbar(x,y_observed,yerr=ese,fmt='.',color=\"k\",label=\"Observed data\")\n",
    "plt.plot(x,y,\"r-\",label=\"Ground Truth\")\n",
    "plt.plot(x,y_pred_curvefit,\"b--\",label=\"curve_fit model\")\n",
    "plt.title(\"Model and Data\")\n",
    "plt.legend(loc=\"best\")\n",
    "\n",
    "plt.subplot(3,1,3)\n",
    "plt.plot(x,(y_pred_curvefit - y),\"k-\")\n",
    "plt.title(\"Residuals\")\n",
    "\n",
    "plt.tight_layout()\n"
   ]
  },
  {
   "cell_type": "markdown",
   "metadata": {},
   "source": [
    "# Errors on model parameters"
   ]
  },
  {
   "cell_type": "markdown",
   "metadata": {},
   "source": [
    "Given the noise in our data, we have some uncertainty on the calculated value of model parameters.\n",
    "\n",
    "A practical way of getting those uncertainties, assuming they follow a normal distribution, is to get them from the diagonal of the parameter covariance matrix.\n"
   ]
  },
  {
   "cell_type": "code",
   "execution_count": 35,
   "metadata": {},
   "outputs": [
    {
     "name": "stdout",
     "output_type": "stream",
     "text": [
      "Value of a is 9.96 +/- 5.07\n",
      "Value of b is 1.312 +/- 0.198\n",
      "Value of c is 0.029997 +/- 0.001718\n"
     ]
    }
   ],
   "source": [
    "# parameter errors are estimated from the square root of the diagonal of the covariance matrix\n",
    "perr = np.sqrt(np.diag(pcov)) \n",
    "\n",
    "# we print things with a bit of string formating (see Python docs)\n",
    "print(\"Value of a is {:.2f} +/- {:.2f}\".format(popt[0],perr[0]))\n",
    "print(\"Value of b is {:.3f} +/- {:.3f}\".format(popt[1],perr[1]))\n",
    "print(\"Value of c is {:.6f} +/- {:.6f}\".format(popt[2],perr[2]))"
   ]
  },
  {
   "cell_type": "markdown",
   "metadata": {},
   "source": [
    "## Questions : \n",
    "\n",
    "    - at which digit you stop when reporting parameters and errors ? Modify the code accordingly\n",
    "    - the diagonal of pcov seems to contain the parameter variance... what are the other values ?\n"
   ]
  },
  {
   "cell_type": "markdown",
   "metadata": {},
   "source": [
    "# How do we propagate errors ?"
   ]
  },
  {
   "cell_type": "markdown",
   "metadata": {},
   "source": [
    "Error propagation is a true problem in itself. It is very important as it really determines the way you think about a problem.\n",
    "\n",
    "There are several easy formula for error propagation, use Google, you will find them.\n",
    "\n",
    "Here I will only probide two general formulas. \n",
    "\n",
    "The first one is for **independent parameters/variables**, meaning that they are NOT covariant in any way. When you are in this situation, we can propagate errors using the variance formula.\n",
    "\n",
    "Given a forward function $f$ with parameters $m_i$ that return y, we have\n",
    "\n",
    "$ \\sigma_y = \\sqrt(\\sum(\\frac{\\delta f}{\\delta m_i})^2\\sigma_{m_i}^2)$ eq. 1\n",
    "\n",
    "For simple problems, this function is easy to calculate, but for more complex ones, it becomes a lot of work. Fortunately, modern computing solved the problem for us! For instance, in Python, you can use the package *uncertainties* to do the job.\n",
    "\n",
    "Read the DOCS !  https://pythonhosted.org/uncertainties/\n",
    "\n",
    "We try it below :"
   ]
  },
  {
   "cell_type": "code",
   "execution_count": 40,
   "metadata": {},
   "outputs": [
    {
     "name": "stdout",
     "output_type": "stream",
     "text": [
      "[9.960176596003809+/-5.065224169076042\n",
      " 1.3124411554251538+/-0.19834971830025078\n",
      " 0.029997333815343582+/-0.00171815862051134]\n"
     ]
    }
   ],
   "source": [
    "# loading the library\n",
    "from uncertainties import unumpy as un # this is a special version of numpy, with arrays that store the errors...\n",
    "import uncertainties\n",
    "\n",
    "# we define an uncertainties array of the parameters \n",
    "# and their variance/covariance (see uncertainties documentation)\n",
    "params = un.uarray(popt, np.sqrt(np.diag(pcov)))\n",
    "\n",
    "print(params)"
   ]
  },
  {
   "cell_type": "markdown",
   "metadata": {},
   "source": [
    "We see that we have errors now in the array! We have a simple function so no need to modify the forward problem (if you have things like cos, sin, exp, you need to use the unumpy ones, so to modify your forward function...)"
   ]
  },
  {
   "cell_type": "code",
   "execution_count": 36,
   "metadata": {},
   "outputs": [
    {
     "data": {
      "image/png": "[encoded data removed]",
      "text/plain": [
       "<Figure size 432x288 with 1 Axes>"
      ]
     },
     "metadata": {
      "needs_background": "light"
     },
     "output_type": "display_data"
    }
   ],
   "source": [
    "# we calculate the best estimate\n",
    "predictions_errors_1 = forward_model(x,*params)\n",
    "\n",
    "# FIGURE\n",
    "plt.figure()\n",
    "\n",
    "plt.errorbar(x,y_observed,yerr=ese,fmt='.',color=\"k\",label=\"Observed data\")\n",
    "plt.plot(x,y,\"r-\",label=\"Ground Truth\")\n",
    "\n",
    "# plotting the model\n",
    "plt.plot(x,un.nominal_values(predictions_errors_1),\"b--\",label=\"curve_fit model\")\n",
    "\n",
    "# plotting its error bars\n",
    "plt.fill_between(x, un.nominal_values(predictions_errors_1) - un.std_devs(predictions_errors_1),\n",
    "                 un.nominal_values(predictions_errors_1) + un.std_devs(predictions_errors_1), alpha=0.2, zorder=-1)\n",
    "\n",
    "plt.title(\"Model and Data\")\n",
    "plt.legend(loc=\"best\")\n",
    "\n",
    "plt.tight_layout()\n"
   ]
  },
  {
   "cell_type": "markdown",
   "metadata": {},
   "source": [
    "# Correlated parameters/variables...\n",
    "\n",
    "Now parameters are nearly ALWAYS correlated with each others... For instance, if we print pcov..."
   ]
  },
  {
   "cell_type": "code",
   "execution_count": 37,
   "metadata": {},
   "outputs": [
    {
     "name": "stdout",
     "output_type": "stream",
     "text": [
      "[[ 2.56564959e+01 -9.64372489e-01  7.71986282e-03]\n",
      " [-9.64372489e-01  3.93426107e-02 -3.31679955e-04]\n",
      " [ 7.71986282e-03 -3.31679955e-04  2.95206905e-06]]\n"
     ]
    }
   ],
   "source": [
    "print(pcov)"
   ]
  },
  {
   "cell_type": "markdown",
   "metadata": {},
   "source": [
    "There is some correlation between the different variables...\n",
    "\n",
    "To take this into account, we can use a modification of the variance formula. For simplicity, we can write the formula for two model variables $m_i$ and $m_j$, but we can expand it easily. So we have\n",
    "\n",
    "$ \\sigma_y = \\sqrt((\\frac{\\delta f}{\\delta m_i})^2\\sigma_{m_i}^2 \n",
    "                   + (\\frac{\\delta f}{\\delta m_j})^2\\sigma_{m_j}^2\n",
    "                   + 2\\sigma^2_{m_im_j}\\frac{\\delta f}{\\delta m_i}\\frac{\\delta f}{\\delta m_j})$   eq. 2\n",
    "                   \n",
    "Fortunately, *uncertainties* allows to deal with this... because it can get extremely complex for real-world models."
   ]
  },
  {
   "cell_type": "code",
   "execution_count": 46,
   "metadata": {},
   "outputs": [
    {
     "data": {
      "image/png": "[encoded data removed]",
      "text/plain": [
       "<Figure size 432x288 with 1 Axes>"
      ]
     },
     "metadata": {
      "needs_background": "light"
     },
     "output_type": "display_data"
    }
   ],
   "source": [
    "# after reading the docs, we see that we can create a \n",
    "# new params array with taking into account the covariance, and use if for error propagation.\n",
    "params_2 = uncertainties.correlated_values(popt, pcov)\n",
    "\n",
    "# we calculate the best estimate\n",
    "predictions_errors_2 = forward_model(x,*params_2)\n",
    "\n",
    "# FIGURE\n",
    "plt.figure()\n",
    "\n",
    "plt.errorbar(x,y_observed,yerr=ese,fmt='.',color=\"k\",label=\"Observed data\")\n",
    "plt.plot(x,y,\"r-\",label=\"Ground Truth\")\n",
    "\n",
    "# plotting the model\n",
    "plt.plot(x,un.nominal_values(predictions_errors_2),\"b--\",label=\"curve_fit model\")\n",
    "\n",
    "# plotting its error bars\n",
    "plt.fill_between(x, un.nominal_values(predictions_errors_2) - un.std_devs(predictions_errors_2),\n",
    "                 un.nominal_values(predictions_errors_2) + un.std_devs(predictions_errors_2), alpha=0.2, zorder=-1)\n",
    "\n",
    "plt.title(\"Model and Data\")\n",
    "plt.legend(loc=\"best\")\n",
    "\n",
    "plt.tight_layout()\n"
   ]
  },
  {
   "cell_type": "markdown",
   "metadata": {},
   "source": [
    "We see that the error bars even become non apparent when taking into account covariance!\n",
    "\n",
    "Always be careful with this !"
   ]
  },
  {
   "cell_type": "code",
   "execution_count": null,
   "metadata": {},
   "outputs": [],
   "source": []
  }
 ],
 "metadata": {
  "kernelspec": {
   "display_name": "Python 3",
   "language": "python",
   "name": "python3"
  },
  "language_info": {
   "codemirror_mode": {
    "name": "ipython",
    "version": 3
   },
   "file_extension": ".py",
   "mimetype": "text/x-python",
   "name": "python",
   "nbconvert_exporter": "python",
   "pygments_lexer": "ipython3",
   "version": "3.7.6"
  }
 },
 "nbformat": 4,
 "nbformat_minor": 2
}
